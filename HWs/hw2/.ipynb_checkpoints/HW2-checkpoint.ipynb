{
 "cells": [
  {
   "cell_type": "markdown",
   "metadata": {},
   "source": [
    "## Simulation: Drop needles\n",
    "\n",
    "Suppose we have a floor made of parallel strips of wood, each the same width $t$, and we drop a needle with length $l=t$ onto the floor. What is the probability that the needle will lie across a line between two strips?\n",
    "\n",
    "Below is an example of two needles dropped. Needle a falls across a line, while needle b does not.\n",
    "\n",
    "![Example](needle.png)"
   ]
  },
  {
   "cell_type": "markdown",
   "metadata": {},
   "source": [
    "In this coding homework, we will simulate such experiments and connect them with the estimation of $\\pi$."
   ]
  },
  {
   "cell_type": "code",
   "execution_count": 1,
   "metadata": {},
   "outputs": [],
   "source": [
    "import numpy as np\n",
    "import math\n",
    "import matplotlib.pyplot as plt"
   ]
  },
  {
   "cell_type": "markdown",
   "metadata": {},
   "source": [
    "The first thing to write is a function *drop_needle*. It simulates dropping a needle onto the floor we described and returns whether the needle lies across a line between two strips. \n",
    "\n",
    "Now the question is how to describe the position of a needle using random variables. The figure below visualizes a needle sampled, with $t=l=1$ (see figure above). Remember that the needle should have an equal probability of landing in any position. In fact, we can uniformly sample the position of the needle's mass center and then uniformly sample the angle formed by the needle and the x-axis. Specifically, we only focus on the mass center's position with respect to (w.r.t.) the x-axis since we can assume the strip is long enough.\n",
    "\n",
    "Besides, we do not need to sample the x-value of the center from $-\\inf$ to $\\inf$. Instead, we can uniformly sample it from $0$ to $2t$. Why is this the case?"
   ]
  },
  {
   "cell_type": "markdown",
   "metadata": {},
   "source": [
    "![needleExmple2](needleExmple2.png)"
   ]
  },
  {
   "cell_type": "markdown",
   "metadata": {},
   "source": [
    "[10pts]"
   ]
  },
  {
   "cell_type": "markdown",
   "metadata": {},
   "source": [
    "Answer: Since the length of the strip is the same as the length of the needle, considering the boundry of where the needle can touch the strip, the mass center of the needle should be at least $l/2$ away from the strip, on both side. Therefore, for a single view of the strip where needle is dropped, it should be $2l$ for all possibilities, which makes the summation of probabilities of all cases equal 1."
   ]
  },
  {
   "cell_type": "code",
   "execution_count": 2,
   "metadata": {},
   "outputs": [],
   "source": [
    "\n",
    "def drop_needle(strip_length, needle_length):\n",
    "    \"\"\"\n",
    "    Simulate dropping a needle on to the floor made of parallel strips of woods.\n",
    "    Return whether the needle lie across a line between two strips.\n",
    "\n",
    "    :return: An Integer that equals to 1 if the needle lie across a line, and 0 otherwise.\n",
    "    \"\"\" \n",
    "    t = strip_length\n",
    "    l = needle_length\n",
    "    mc = np.random.uniform(0, 2*t) \n",
    "    theta = np.random.uniform(0, np.pi)\n",
    "    left = mc - abs(l/2.0 * math.cos(theta))\n",
    "    right = mc + abs(l/2.0 * math.cos(theta))\n",
    "    if mc < t:\n",
    "        if left <= 0 or right >= t:\n",
    "            return 1\n",
    "        else:\n",
    "            return 0\n",
    "    else:\n",
    "        if left <= t or right >= 2*t:\n",
    "            return 1\n",
    "        else:\n",
    "            return 0\n",
    "        \n",
    "    # write your code here\n"
   ]
  },
  {
   "cell_type": "markdown",
   "metadata": {},
   "source": [
    "Next, write a function run_simulation that calls drop_needle repetitively for n times. The function should return the probability that a dropped needle lies across a line based on the n trials. [5pts]"
   ]
  },
  {
   "cell_type": "code",
   "execution_count": 3,
   "metadata": {},
   "outputs": [],
   "source": [
    "def run_simulation(n, strip_length, needle_length):\n",
    "    \"\"\"\n",
    "    Repeat drop_needle experiment for n times. Return the probability that the needle will lie across a line. \n",
    "\n",
    "    :return: float, the probability that the needle will lie across a line according to the n experiments.\n",
    "    \"\"\" \n",
    "    # Write your code here\n",
    "    count = 0\n",
    "    nsim = n\n",
    "    while nsim > 0:\n",
    "        count += drop_needle(strip_length, needle_length)\n",
    "        nsim -= 1\n",
    "    \n",
    "    return 1.0 * count / n"
   ]
  },
  {
   "cell_type": "markdown",
   "metadata": {},
   "source": [
    "### Run the simulation\n",
    "\n",
    "Run the *run_simulation* function 500 times with parameters n=1000, strip_length=1, and needle_length=1. Each time the function is going to return a probability of the needle lying across the line. Plot a histogram of those 500 probabilities. [5pts]"
   ]
  },
  {
   "cell_type": "code",
   "execution_count": 4,
   "metadata": {},
   "outputs": [
    {
     "data": {
      "image/png": "[encoded data removed]",
      "text/plain": [
       "<Figure size 720x504 with 1 Axes>"
      ]
     },
     "metadata": {
      "needs_background": "light"
     },
     "output_type": "display_data"
    }
   ],
   "source": [
    "# Write your code here\n",
    "record = []\n",
    "nsim = 500\n",
    "while nsim >0:\n",
    "    record.append(run_simulation(1000,1,1))\n",
    "    nsim -=1\n",
    "fig, ax = plt.subplots(figsize=(10,7))\n",
    "ax.hist(record)\n",
    "ax.grid(b = True, color = 'grey', alpha = 0.5)\n",
    "plt.xlabel(\"Probability that needle lie across a line\")\n",
    "plt.ylabel(\"number of trails\")\n",
    "plt.show()"
   ]
  },
  {
   "cell_type": "markdown",
   "metadata": {},
   "source": [
    "## Estimate $\\pi$ based on the returned probability\n",
    "\n",
    "This experiment can be used to estimate the value of $\\pi$. In the case where the needle length $l$ equals to the width $t$ of the strips, the probability of a needle lies across a line is $p=\\frac{2}{\\pi}$. Try to prove why this holds. [15pts]\n"
   ]
  },
  {
   "attachments": {},
   "cell_type": "markdown",
   "metadata": {},
   "source": [
    "Your proof: \n",
    "\n",
    "Let $l$ denote the needle length and $t$ be the distance between two strips. Since the strips are parrallel and equally spaced, we can simplify our proof to how far away our needle lange from the nearest vertical strip. \n",
    "Denote $d$ as the distance to the nearest strip, and thus, $d \\~ Unif(0,t/2)$, and since the needle can be placed randomly by angels, $\\Theta \\~ Unif(0, \\pi )$ relative to the horizon.\n",
    "The diagram below visually shows all the denotations:\n",
    "\n",
    "\n",
    "\n",
    "\n"
   ]
  },
  {
   "cell_type": "raw",
   "metadata": {},
   "source": []
  },
  {
   "cell_type": "raw",
   "metadata": {},
   "source": []
  },
  {
   "cell_type": "raw",
   "metadata": {},
   "source": []
  },
  {
   "cell_type": "markdown",
   "metadata": {},
   "source": [
    "Therefore, a crossing will occur in case $d < l/2 * sin(\\theta)$.\n",
    "Also, based on the fact that $d$ and $\\theta$ are independent uniform random variables on $[0, t/2]$, and $[0,\\pi]$ respectively, $$P(crossing) =\\int_{0}^{\\pi} \\int_{0}^{\\frac{l}{2} sin(\\theta)} \\, \\frac{1}{\\frac{t}{2}} \\frac{1}{\\pi} \\,\\mathrm{d}{\\theta} \\mathrm{d}d$$\n",
    "$$P(crossing) = \\frac{2}{t\\pi} \\int_{0}^{\\pi} \\, \\frac{t}{2} sin(\\theta) \\mathrm{d}{\\theta}$$\n",
    "$$P(crossing) = \\frac{2l}{t\\pi}$$\n",
    "Since we have $l = t$, $$P(crossing) = \\frac{2}{\\pi}$$ Therefore, we can use this probability of crossing to estimate $\\pi$ as $\\hat{p} = \\frac{number \\,of \\,crossing}{number\\, of\\, throws}$.\n",
    "When we plug the empirical probability of crossing o the theoretical one, $$\\hat{\\pi} = 2*\\frac{number \\,of \\,crossing}{number\\, of\\, throws}$$\n",
    "Q.E.D.\n"
   ]
  },
  {
   "cell_type": "markdown",
   "metadata": {},
   "source": [
    "\n",
    "Assume you know $p=\\frac{2}{\\pi}$, and you can call the function *run_simulation*. Let $X_i$ be the indicator random variable of dropping the $i$-th needle, i.e., $X_i=1$ if the $i$-th needle lies across a line, and $X_i=0$ otherwise. Let $S_n=\\sum_{i=1}^n X_i$. How many needles do you need to drop, i.e., what value of $n$ should you take, to get the 95\\% confidence interval of $S_n$? Use Chebyshev's inequality and let $\\epsilon=0.1$. [15pts]"
   ]
  },
  {
   "cell_type": "markdown",
   "metadata": {},
   "source": [
    "Your answer:  \n",
    "\n",
    "By WLLN, $\\lim_{n \\to \\infty}Pr(|S_n - n\\mu| > n\\epsilon ) = 0$.\n",
    "By Chebyshev's inequality, $P(|S_n - E(S_n)| ≥ n\\epsilon) ≤ \\frac{Var(S_n)}{(n\\epsilon)^2}≤ 1-0.95 = 0.05$.\n",
    "\n",
    "Since the needle can either be crossing the strip or not, it is a bernoulli trail following binomial distribution. In this way, we have $X=S_n$, $\\mu=np$, and $\\sigma=\\sqrt{np(1-p)}$. Since $p=\\frac{2}{\\pi}$,\n",
    "\n",
    "$$\\frac{Var(S_n)}{(n\\epsilon)^2}≤ 0.05$$\n",
    "$$\\frac{n*2/\\pi*(\\pi-2)/\\pi}{n^2 \\epsilon^2} ≤ 0.05$$\n",
    "$$n ≥ 462.67008$$\n",
    "\n",
    "Therefore, at least 463 needles should be dropped to get the 95\\% confidence interval of $S_n$. \n",
    "\n",
    "\n"
   ]
  },
  {
   "cell_type": "markdown",
   "metadata": {},
   "source": [
    "What does the CLT say about $S_n$? Run the *run_simulation* function with parameters n=5000, strip_length=1, and needle_length=1, and report a 95\\% confidence interval of $S_n$ based on CLT (see lecture slides page 4 from Feb 2). [10pts] "
   ]
  },
  {
   "cell_type": "markdown",
   "metadata": {},
   "source": [
    "Answer: By CLT, as n increases, the distribution of Sn that follows a binomial distribution with n trials and probability p of success gets closer and closer to a normal distribution."
   ]
  },
  {
   "cell_type": "code",
   "execution_count": 5,
   "metadata": {},
   "outputs": [
    {
     "name": "stdout",
     "output_type": "stream",
     "text": [
      "95% confidence interval: ( 0.6077474579032859 , 0.6667485420967142 ).\n"
     ]
    }
   ],
   "source": [
    "# Write your code here.\n",
    "m = np.mean(record)\n",
    "s = np.std(record)\n",
    "CIleft = m - 2 * s\n",
    "CIright = m + 2 * s\n",
    "print(\"95% confidence interval: (\", CIleft, \",\", CIright, \").\")"
   ]
  },
  {
   "cell_type": "code",
   "execution_count": null,
   "metadata": {},
   "outputs": [],
   "source": []
  }
 ],
 "metadata": {
  "kernelspec": {
   "display_name": "Python 3",
   "language": "python",
   "name": "python3"
  },
  "language_info": {
   "codemirror_mode": {
    "name": "ipython",
    "version": 3
   },
   "file_extension": ".py",
   "mimetype": "text/x-python",
   "name": "python",
   "nbconvert_exporter": "python",
   "pygments_lexer": "ipython3",
   "version": "3.7.6"
  }
 },
 "nbformat": 4,
 "nbformat_minor": 4
}
