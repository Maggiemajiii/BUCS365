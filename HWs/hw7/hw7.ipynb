{
 "cells": [
  {
   "cell_type": "markdown",
   "metadata": {},
   "source": [
    "# Count min sketch with max heap (25pts)\n",
    "\n",
    "In the class, we studied count-min sketch, an elegant algorithm to estimate the frequency of elements. Here we want to find the top-k frequent elements with one pass over an insert-only stream, using this algorithm. Note that to get top-k elements with only one pass, we must maintain an additional data structure, e.g., a heap, to store the current top-k frequent elements in the stream. \n",
    "\n",
    "Let $w$ be the width (num of columns) and $d$ be the depth (num of rows) of the count min sketch. The high-level idea of the algorithm is the following: \n",
    "\n",
    "1. Initialize a heap and a matrix of size $w\\times d$. \n",
    "\n",
    "2. For each element $e$ coming from the stream, you should update the count min sketch matrix using d different hash functions (as taught in the class). Then, check if the heap size is already k. If no, insert a tuple (the count of $e$, e) into the heap; Else, replace the tuple of the least frequent element in the heap, say $h_0$, with a tuple of (estimated count of $e$, e), **if $e$ has an estimated frequency larger than $h_0$.**\n",
    "\n",
    "Note the heap will have size at most k, and it stores the (estimated) top-k frequent elements. We need only $O(wd+k)$ words of memory to implement the whole idea. Please implement this algorithm as a class in the cell below."
   ]
  },
  {
   "cell_type": "markdown",
   "metadata": {},
   "source": [
    "### What is heap and how to use it in Python:\n",
    "\n",
    "A heap is a specialized tree-based data structure which is essentially an almost complete tree that satisfies the heap property: in a max heap, for any given node C, if P is a parent node of C, then the key (the value) of P is greater than or equal to the key of C. A brief introduction can be found [here](https://en.wikipedia.org/wiki/Heap_(data_structure)).\n",
    "\n",
    "In python, the most common implementation of heap can be found [here](https://docs.python.org/3/library/heapq.html). The heapq module implement min heap by storing the data in a list, and exposing all heap-operation APIs needed. You can also find examples of heapq [here](https://www.geeksforgeeks.org/heap-queue-or-heapq-in-python/).  Note when the data stored in the list are tuples, the first element of each tuple will be considered as the \"key\".\n",
    "\n"
   ]
  },
  {
   "cell_type": "code",
   "execution_count": 1,
   "metadata": {},
   "outputs": [],
   "source": [
    "import heapq\n",
    "import time\n",
    "import matplotlib.pyplot as plt\n",
    "\n",
    "class CountMinSketchHeap:\n",
    "    \"\"\"\n",
    "    The CountMinSketchHeap class implements the Count-Min Sketch algorithm for approximate counting\n",
    "        of item frequencies. It also maintain a heap of size k to store the top-k frequent elements.\n",
    "    \"\"\"\n",
    "    \n",
    "    def __init__(self, width, depth, k, hashfunc):\n",
    "        \"\"\"\n",
    "        Following variables are initialized here.\n",
    "        width: an integer representing the number of columns in the hash table.\n",
    "        depth: an integer representing the number of rows in the hash table.\n",
    "        k: the number of top frequent elements to store.\n",
    "        hashfunc: a callable hash function.\n",
    "        counts: a two-dimensional list representing the hash table.\n",
    "        keys: a list that stores the current top k frequent elements.\n",
    "        heap: a max heap of size at most k, it stores (count, elment) pairs of the top k frequent elements.\n",
    "        hash_execution_time: an integer used to compute the efficiency of the hash function.\n",
    "        \"\"\"\n",
    "        self.width = width\n",
    "        self.depth = depth\n",
    "        self.k = k\n",
    "        self.hashfunc = hashfunc\n",
    "        self.counts = [[0] * width for _ in range(depth)]\n",
    "        self.keys = []\n",
    "        self.heap = []\n",
    "        self.hash_execution_time = 0\n",
    "    \n",
    "    def hash(self, key):\n",
    "        \"\"\"\n",
    "        DONT CHANGE THIS!\n",
    "        This function takes a key and generates in total self.depth hash values using self.depth \n",
    "            pairwise independent hash functions.\n",
    "        \"\"\"\n",
    "        hashes = []\n",
    "        st = time.time()\n",
    "        for i in range(self.depth):\n",
    "            h = self.hashfunc((i, key)) % self.width\n",
    "            hashes.append(h)\n",
    "        self.hash_execution_time += (time.time()-st)\n",
    "        return hashes\n",
    "    \n",
    "    def update(self, key, count=1):\n",
    "        \"\"\" This function updates both heap and count min sketch when we get a new element (key) from the stream.\n",
    "        Please implement below. \"\"\"\n",
    "        hashes = self.hash(key)\n",
    "        for i, h in enumerate(hashes):\n",
    "            self.counts[i][h] += count\n",
    "        \n",
    "        estimate = self.query(key)\n",
    "        if len(self.keys) < self.k:\n",
    "            if key not in self.keys:\n",
    "                self.keys.append(key)\n",
    "                heapq.heappush(self.heap, (estimate, key))\n",
    "            else: # if key is already stored, check whether to update the estimate\n",
    "                for i, tup in enumerate(self.heap):\n",
    "                    e, k = tup\n",
    "                    if k == key and estimate > e:\n",
    "                        self.heap[i] = (estimate, key)\n",
    "                        heapq.heapify(self.heap)\n",
    "        else: # cases when the heap is already full\n",
    "            if key not in self.keys:\n",
    "                least_count, least_key = self.heap[0]\n",
    "                if estimate > least_count:\n",
    "                    heapq.heapreplace(self.heap, (estimate, key))\n",
    "                    self.keys.remove(least_key)\n",
    "                    self.keys.append(key)\n",
    "            else: # if key is already stored, check whether to update the estimate\n",
    "                for i, tup in enumerate(self.heap):\n",
    "                    e, k = tup\n",
    "                    if k == key and estimate > e:\n",
    "                        self.heap[i] = (estimate, key)\n",
    "                        heapq.heapify(self.heap)\n",
    "\n",
    "        \n",
    "    def query(self, key):\n",
    "        \"\"\" This function returns the estimated frequency of an element(key) via count min sketch.\n",
    "        Please implement below. \"\"\"\n",
    "        hashes = self.hash(key)\n",
    "        min_count = float('inf')\n",
    "        for i, h in enumerate(hashes):\n",
    "            min_count = min(min_count, self.counts[i][h])\n",
    "        return min_count\n",
    "    \n",
    "    def topk(self):\n",
    "        return sorted(self.heap, reverse=True)"
   ]
  },
  {
   "cell_type": "markdown",
   "metadata": {},
   "source": [
    "Below is a set of hash functions implemented in hashlib package. "
   ]
  },
  {
   "cell_type": "code",
   "execution_count": 2,
   "metadata": {},
   "outputs": [],
   "source": [
    "# CODE FOR HASHING, DONT CHANGE\n",
    "\n",
    "import hashlib\n",
    "import mmh3\n",
    "\n",
    "def md5_toint(key):\n",
    "    a = hashlib.md5()\n",
    "    a.update(bytes(str(key), 'utf-8'))\n",
    "    return int.from_bytes(a.digest(),\"big\")\n",
    "\n",
    "def sha256_toint(key):\n",
    "    a = hashlib.sha256()\n",
    "    a.update(bytes(str(key), 'utf-8'))\n",
    "    return int.from_bytes(a.digest(),\"big\")\n",
    "\n",
    "def blake2b_toint(key):\n",
    "    a = hashlib.blake2b()\n",
    "    a.update(bytes(str(key), 'utf-8'))\n",
    "    return int.from_bytes(a.digest(),\"big\")\n",
    "\n",
    "def murmur_toint(key):\n",
    "    return mmh3.hash(str(key))"
   ]
  },
  {
   "cell_type": "markdown",
   "metadata": {},
   "source": [
    "## Test and plot (5pts)\n",
    "\n",
    "In the folder, we include a text file of the book \"blue castle.\" The next cell use the CountMinSketchHeap implemented above to estimate the top 10 frequent words in this book. Set width=200, range depth in `[10,15,20,25]`, and try different hash functions listed above. The test code collects for each hash function two performance metrics:\n",
    "\n",
    "- The execution time of the hash function, which equals to hash_execution_time (a variable defined in CountMinSketchHeap).\n",
    "\n",
    "- The sum of the difference between estimated and real frequencies of top-10 words.\n",
    "\n",
    "In the last cell, please generate one plot that contains a curve for each hash function, with x-axis representing the execution time and y-axis representing the sum of the difference. Please add markers and legends properly."
   ]
  },
  {
   "cell_type": "code",
   "execution_count": 3,
   "metadata": {},
   "outputs": [],
   "source": [
    "# TEST CODE, DONT CHANGE\n",
    "def count_min_test(depth, hashf):\n",
    "    c = CountMinSketchHeap(200, depth, 10, hashf)\n",
    "    d = {}\n",
    "    f = open(\"bluecastle.txt\",\"r\",encoding=\"UTF-8\")\n",
    "    for line in f:\n",
    "        for word in line.split():\n",
    "            if word not in d:\n",
    "                d[word]=0\n",
    "            d[word]+=1\n",
    "            c.update(word)\n",
    "\n",
    "    return sum([i[0] for i in c.topk()])-sum(sorted([d[i] for i in d])[-10:]), c.hash_execution_time\n",
    "\n",
    "md5_time, md5_diff = [], []\n",
    "sha256_time, sha256_diff = [], []\n",
    "blake_time, blake_diff = [], []\n",
    "murmur_time, murmur_diff = [], []\n",
    "for depth in [10,15,20,25]:\n",
    "    diff, timet = count_min_test(depth, md5_toint)\n",
    "    md5_time.append(timet)\n",
    "    md5_diff.append(diff)\n",
    "    diff, timet = count_min_test(depth, sha256_toint)\n",
    "    sha256_time.append(timet)\n",
    "    sha256_diff.append(diff)\n",
    "    diff, timet = count_min_test(depth, blake2b_toint)\n",
    "    blake_time.append(timet)\n",
    "    blake_diff.append(diff)\n",
    "    diff, timet = count_min_test(depth, murmur_toint)\n",
    "    murmur_time.append(timet)\n",
    "    murmur_diff.append(diff)"
   ]
  },
  {
   "cell_type": "code",
   "execution_count": 4,
   "metadata": {},
   "outputs": [
    {
     "data": {
      "image/png": "[encoded data removed]",
      "text/plain": [
       "<Figure size 432x288 with 1 Axes>"
      ]
     },
     "metadata": {
      "needs_background": "light"
     },
     "output_type": "display_data"
    }
   ],
   "source": [
    "# Plot here\n",
    "plt.plot(md5_time, md5_diff, label = 'md5')\n",
    "plt.plot(sha256_time, sha256_diff, label = 'sha256')\n",
    "plt.plot(blake_time, blake_diff, label = 'blake')\n",
    "plt.plot(murmur_time, murmur_diff, label = 'murmur')\n",
    "plt.legend()\n",
    "plt.show()"
   ]
  },
  {
   "cell_type": "code",
   "execution_count": null,
   "metadata": {},
   "outputs": [],
   "source": []
  }
 ],
 "metadata": {
  "kernelspec": {
   "display_name": "Python 3",
   "language": "python",
   "name": "python3"
  },
  "language_info": {
   "codemirror_mode": {
    "name": "ipython",
    "version": 3
   },
   "file_extension": ".py",
   "mimetype": "text/x-python",
   "name": "python",
   "nbconvert_exporter": "python",
   "pygments_lexer": "ipython3",
   "version": "3.7.6"
  }
 },
 "nbformat": 4,
 "nbformat_minor": 4
}
