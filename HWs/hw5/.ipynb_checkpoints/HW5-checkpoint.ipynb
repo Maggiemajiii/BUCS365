{
 "cells": [
  {
   "cell_type": "code",
   "execution_count": 1,
   "metadata": {},
   "outputs": [],
   "source": [
    "import networkx as nx\n",
    "import numpy as np\n",
    "import matplotlib.pyplot as plt"
   ]
  },
  {
   "cell_type": "markdown",
   "metadata": {},
   "source": [
    "# Networkx\n",
    "\n",
    "Networkx is a Python library people commonly use when dealing with graphs. Please follow the instructions to install the package: https://networkx.org/documentation/stable/install.html. A tutorial for quick-start is also available on their webpage: https://networkx.org/documentation/stable/tutorial.html.\n",
    "\n",
    "\n",
    "\n"
   ]
  },
  {
   "cell_type": "markdown",
   "metadata": {},
   "source": [
    "# $G(n,p)$\n",
    "\n",
    "This notebook aims to empirically investigate the properties of Erdős-Rényi graphs, specifically the $G(n,p)$ model, and compare them with real-world networks. Networkx provides a convenient way to generate random graphs using built-in functions for various commonly used graph models. To create an Erdős-Rényi graph, we can use the function `nx.erdos_renyi_graph(n, p)`, where `n` is the number of nodes and `p` is the probability of an edge between two nodes. The function returns an `nx.Graph` object containing the nodes and edges of the generated graph.\n"
   ]
  },
  {
   "cell_type": "code",
   "execution_count": 2,
   "metadata": {},
   "outputs": [
    {
     "name": "stdout",
     "output_type": "stream",
     "text": [
      "10 8\n"
     ]
    },
    {
     "data": {
      "image/png": "[encoded data removed]",
      "text/plain": [
       "<Figure size 432x288 with 1 Axes>"
      ]
     },
     "metadata": {},
     "output_type": "display_data"
    }
   ],
   "source": [
    "# Example: generate a graph from G(10, 0.1)\n",
    "G_test = nx.erdos_renyi_graph(10, 0.1)\n",
    "# Check how many nodes and edges it has.\n",
    "print(G_test.number_of_nodes(), G_test.number_of_edges())\n",
    "# Plot the graph\n",
    "nx.draw(G_test)"
   ]
  },
  {
   "cell_type": "markdown",
   "metadata": {},
   "source": [
    "## Statistics of $G(n,p)$ (20 pts)\n",
    "\n",
    "In the upcoming code cell, you will be requested to generate graphs from $G(n,p)$ model with $n$ set to 100, using different values of $p$ ranging from 0.001 to 0.081, with a small step size such as 0.005. For each value of $p$, you should generate 10 graph samples from the model and report the average of the following graph statistics with error bars for std. We also provide a brief explanation on how to compute these statistics using networkx functions:\n",
    "\n",
    "- Number of edges: To obtain the number of edges in a given nx.graph object G, you can utilize the function `G.number_of_edges()`.\n",
    "\n",
    "- Number of triangles: Using `nx.triangles(G)`, a dictionary of (node id, number of triangles participated) key-value pairs is returned. To calculate the total number of triangles in G, simply sum all the values in the dictionary and divide the result by 3 (since each triangle is counted three times in the dictionary).\n",
    "\n",
    "- Number of isolated nodes: If a node has degree 0, then it is an isolated node. The function G.degree is a map-like object consisting of (node id, node degree) pairs. To count the number of isolated nodes, iterate through `G.degree` and count the number of 0s in the values.\n",
    "\n",
    "- Number of connected components: In graph theory, a connected component is a set of vertices in a graph that are linked to each other by paths. Using nx.connected_components(G), a node list generator is returned, which yields one component at a time. To get the total number of connected components, you can use `len(list(nx.connected_components(G)))`.\n",
    "\n",
    "For each graph statistic, generate a plot where the x-axis represents the values of $p$, and the y-axis represents the average of the statistic. "
   ]
  },
  {
   "cell_type": "code",
   "execution_count": 3,
   "metadata": {},
   "outputs": [],
   "source": [
    "# Write your code below\n",
    "ps = np.arange(0.001, 0.082, 0.005)\n",
    "edges_mean = []\n",
    "edges_std = []\n",
    "triangles_mean = []\n",
    "triangles_std = []\n",
    "isolatednode_mean = []\n",
    "isolatednode_std = []\n",
    "connects_mean = []\n",
    "connects_std = []\n",
    "for p in ps:\n",
    "    edges = []\n",
    "    triangles = []\n",
    "    isolated_nodes = []\n",
    "    connects = []\n",
    "    for i in range(1,11):\n",
    "        G_sample = nx.erdos_renyi_graph(100, p)\n",
    "        edges.append(G_sample.number_of_edges())\n",
    "        triangles.append(sum(nx.triangles(G_sample).values())/3)\n",
    "        numdegree = 0\n",
    "        for i,degree in G_sample.degree:\n",
    "            if degree==0:\n",
    "                numdegree +=1\n",
    "        isolated_nodes.append(numdegree)\n",
    "        connects.append(len(list(nx.connected_components(G_sample))))\n",
    "    edges_mean.append(np.mean(edges))\n",
    "    edges_std.append(np.std(edges))\n",
    "    triangles_mean.append(np.mean(triangles))\n",
    "    triangles_std.append(np.std(triangles))\n",
    "    isolatednode_mean.append(np.mean(isolated_nodes))\n",
    "    isolatednode_std.append(np.std(isolated_nodes))\n",
    "    connects_mean.append(np.mean(connects))\n",
    "    connects_std.append(np.std(connects))\n"
   ]
  },
  {
   "cell_type": "code",
   "execution_count": 4,
   "metadata": {},
   "outputs": [
    {
     "data": {
      "text/plain": [
       "<ErrorbarContainer object of 3 artists>"
      ]
     },
     "execution_count": 4,
     "metadata": {},
     "output_type": "execute_result"
    },
    {
     "data": {
      "image/png": "[encoded data removed]",
      "text/plain": [
       "<Figure size 432x288 with 1 Axes>"
      ]
     },
     "metadata": {
      "needs_background": "light"
     },
     "output_type": "display_data"
    }
   ],
   "source": [
    "# Generate plot with error bars for number of edges.\n",
    "plt.plot(ps,edges_mean)\n",
    "plt.errorbar(ps,edges_mean,\n",
    "             yerr = edges_std, capsize=3,\n",
    "             fmt ='o')"
   ]
  },
  {
   "cell_type": "code",
   "execution_count": 5,
   "metadata": {},
   "outputs": [
    {
     "data": {
      "text/plain": [
       "<ErrorbarContainer object of 3 artists>"
      ]
     },
     "execution_count": 5,
     "metadata": {},
     "output_type": "execute_result"
    },
    {
     "data": {
      "image/png": "[encoded data removed]",
      "text/plain": [
       "<Figure size 432x288 with 1 Axes>"
      ]
     },
     "metadata": {
      "needs_background": "light"
     },
     "output_type": "display_data"
    }
   ],
   "source": [
    "# Generate plot with error bars for number of triangles.\n",
    "plt.plot(ps,triangles_mean)\n",
    "plt.errorbar(ps,triangles_mean,\n",
    "             yerr = triangles_std, capsize=3,\n",
    "             fmt ='o')"
   ]
  },
  {
   "cell_type": "code",
   "execution_count": 6,
   "metadata": {},
   "outputs": [
    {
     "data": {
      "text/plain": [
       "<ErrorbarContainer object of 3 artists>"
      ]
     },
     "execution_count": 6,
     "metadata": {},
     "output_type": "execute_result"
    },
    {
     "data": {
      "image/png": "[encoded data removed]",
      "text/plain": [
       "<Figure size 432x288 with 1 Axes>"
      ]
     },
     "metadata": {
      "needs_background": "light"
     },
     "output_type": "display_data"
    }
   ],
   "source": [
    "# Generate plot with error bars for number of isolated nodes.\n",
    "plt.plot(ps,isolatednode_mean)\n",
    "plt.errorbar(ps,isolatednode_mean,\n",
    "             yerr = isolatednode_std, capsize=3,\n",
    "             fmt ='o')"
   ]
  },
  {
   "cell_type": "code",
   "execution_count": 7,
   "metadata": {},
   "outputs": [
    {
     "data": {
      "text/plain": [
       "<ErrorbarContainer object of 3 artists>"
      ]
     },
     "execution_count": 7,
     "metadata": {},
     "output_type": "execute_result"
    },
    {
     "data": {
      "image/png": "[encoded data removed]",
      "text/plain": [
       "<Figure size 432x288 with 1 Axes>"
      ]
     },
     "metadata": {
      "needs_background": "light"
     },
     "output_type": "display_data"
    }
   ],
   "source": [
    "# Generate plot with error bars for number of connected components.\n",
    "plt.plot(ps,connects_mean)\n",
    "plt.errorbar(ps,connects_mean,\n",
    "             yerr = connects_std, capsize=3,\n",
    "             fmt ='o')"
   ]
  },
  {
   "cell_type": "markdown",
   "metadata": {},
   "source": [
    "# Real world network\n",
    "\n",
    "## Graph statistics (10pts)\n",
    "\n",
    "In the same folder we provide a real-world social network dataset saved as edgelist format named \"fb-pages-food.edges\". Each line in this file has the format of \"node1,node2\" that represents an edge connecting node1 and node2. An edgelist file can be loaded as nx.Graph directly using nx.read_edgelist() like the following."
   ]
  },
  {
   "cell_type": "code",
   "execution_count": 8,
   "metadata": {},
   "outputs": [],
   "source": [
    "G = nx.read_edgelist(\"fb-pages-food.edges\", delimiter=',')"
   ]
  },
  {
   "cell_type": "markdown",
   "metadata": {},
   "source": [
    "How many nodes and edges are there in this graph? Also report the number of triangles, number of isolated nodes, and number of connected components in this graph."
   ]
  },
  {
   "cell_type": "code",
   "execution_count": 9,
   "metadata": {},
   "outputs": [
    {
     "name": "stdout",
     "output_type": "stream",
     "text": [
      "Graph Statistics: \n",
      "number of nodes: 620 \n",
      "number of edges: 2102 \n",
      "number of triangles: 2935 \n",
      "number of isolated nodes: 0 \n",
      "number of connected components: 1\n"
     ]
    }
   ],
   "source": [
    "# Report the graph statistics.\n",
    "nodes = G.number_of_nodes()\n",
    "edges = G.number_of_edges()\n",
    "triangles = sum(nx.triangles(G).values())/3\n",
    "degrees = [val for (node, val) in G.degree()]\n",
    "isolated_nodes = degrees.count(0)\n",
    "connect = len(list(nx.connected_components(G)))\n",
    "print(\"Graph Statistics:\",\n",
    "      \"\\nnumber of nodes:\", nodes,\n",
    "      \"\\nnumber of edges:\", edges, \n",
    "      \"\\nnumber of triangles:\", int(triangles), \n",
    "      \"\\nnumber of isolated nodes:\", isolated_nodes, \n",
    "      \"\\nnumber of connected components:\", connect)"
   ]
  },
  {
   "cell_type": "markdown",
   "metadata": {},
   "source": [
    "In the next cell, plot a histogram of the node degrees in this graph with bins=15."
   ]
  },
  {
   "cell_type": "code",
   "execution_count": 10,
   "metadata": {},
   "outputs": [
    {
     "data": {
      "image/png": "[encoded data removed]",
      "text/plain": [
       "<Figure size 432x288 with 1 Axes>"
      ]
     },
     "metadata": {
      "needs_background": "light"
     },
     "output_type": "display_data"
    }
   ],
   "source": [
    "degrees = [val for (node, val) in G.degree()]\n",
    "plt.hist(degrees, bins=15)\n",
    "plt.xlabel(\"Degree\")\n",
    "plt.ylabel(\"Frequency\")\n",
    "plt.title(\"Degree Distribution\")\n",
    "plt.show()"
   ]
  },
  {
   "cell_type": "markdown",
   "metadata": {},
   "source": [
    "## Try to fit the data with G(n,p) (10pts)\n",
    "\n",
    "If we want to fit the graph with G(n,p) model, i.e., find a G(n,p) model whose expected number of edges equals to number of edge in this graph, How should we set p to get m edges in expectation? "
   ]
  },
  {
   "cell_type": "code",
   "execution_count": 11,
   "metadata": {},
   "outputs": [
    {
     "name": "stdout",
     "output_type": "stream",
     "text": [
      "0.0109541925061233\n"
     ]
    }
   ],
   "source": [
    "# caluclate and print the value of p.\n",
    "# expected number of edges = p*(n(n-1)/2) = m\n",
    "# In this case, n = 620, m = 2102\n",
    "# Therefore, p = 2101*2/(620*619)\n",
    "n = 620\n",
    "m = 2102\n",
    "p = m*2/(n*(n-1))\n",
    "print(p)"
   ]
  },
  {
   "cell_type": "markdown",
   "metadata": {},
   "source": [
    "Now use the p value you calculated and sample 10 graphs from G(n,p). Report the same graph statistics in average."
   ]
  },
  {
   "cell_type": "code",
   "execution_count": 12,
   "metadata": {},
   "outputs": [
    {
     "name": "stdout",
     "output_type": "stream",
     "text": [
      "Graph Statistics: \n",
      "number of nodes: 620 \n",
      "number of edges: 2084.8 \n",
      "number of triangles: 48.0 \n",
      "number of isolated nodes: 0.8 \n",
      "number of connected components: 1.8\n"
     ]
    }
   ],
   "source": [
    "edges = []\n",
    "triangles = []\n",
    "isolatednode = []\n",
    "connects = []\n",
    "for i in range(1,11):\n",
    "        G_sample = nx.erdos_renyi_graph(n, p)\n",
    "        edges.append(G_sample.number_of_edges())\n",
    "        triangles.append(sum(nx.triangles(G_sample).values())/3)\n",
    "        sampledegrees = [val for (node, val) in G_sample.degree()]\n",
    "        isolatednode.append(sampledegrees.count(0))\n",
    "        connects.append(len(list(nx.connected_components(G_sample))))\n",
    "print(\"Graph Statistics:\",\n",
    "      \"\\nnumber of nodes:\", n,\n",
    "      \"\\nnumber of edges:\", np.mean(edges), \n",
    "      \"\\nnumber of triangles:\", np.mean(triangles), \n",
    "      \"\\nnumber of isolated nodes:\", np.mean(isolatednode), \n",
    "      \"\\nnumber of connected components:\", np.mean(connects))"
   ]
  },
  {
   "cell_type": "markdown",
   "metadata": {},
   "source": [
    "Plot the histogram of node degrees for one random graph you generated with bins=15, what's the difference between the node degree sequences of the real graph and the random graph?"
   ]
  },
  {
   "cell_type": "code",
   "execution_count": 13,
   "metadata": {},
   "outputs": [
    {
     "data": {
      "image/png": "[encoded data removed]",
      "text/plain": [
       "<Figure size 432x288 with 1 Axes>"
      ]
     },
     "metadata": {
      "needs_background": "light"
     },
     "output_type": "display_data"
    }
   ],
   "source": [
    "G_random = nx.erdos_renyi_graph(n, p)\n",
    "degrees = [val for (node, val) in G_random.degree()]\n",
    "plt.hist(degrees, bins=15)\n",
    "plt.xlabel(\"Degree\")\n",
    "plt.ylabel(\"Frequency\")\n",
    "plt.title(\"Degree Distribution from One Random Graph G(620,0.011)\")\n",
    "plt.show()"
   ]
  },
  {
   "cell_type": "markdown",
   "metadata": {},
   "source": [
    "Answer: \n",
    "The histogram of the sequences of the random graph is symmetric and bell shaped. It looks like the frequency of degree is normally distributed and centered around 7 degrees.\n",
    "However, the frequency of degree of the real graph is highly skew to the right, and it has center between 0 to 10."
   ]
  },
  {
   "cell_type": "markdown",
   "metadata": {},
   "source": [
    "## A random graph model that fits the degree sequence (10pts)\n",
    "\n",
    "Given a sequence of expected degrees $(d_1,d_2\\dots d_n)$ of length n, we generate a graph with n nodes, and assigns an edge between node $u$ and node $v$ with probability $$p_{uv}={d_ud_v\\over \\sum_k d_k}$$.\n",
    "\n",
    "This model is known as the Chung-Lu model and is implemented in the networkx library. To generate a graph from this model, simply use the function `nx.expected_degree_graph(node_degree_list, selfloops=False)`.\n",
    "\n",
    "To compare the generated graph with a real social network, pass the degree sequence of the real network into this model and generate 10 samples. Then plot the degree histogram of the generated graphs and compare it with the original graph. Additionally, report the same graph statistics for the generated graphs and compare them with the original graph. What observations can we make from this comparison?"
   ]
  },
  {
   "cell_type": "code",
   "execution_count": 16,
   "metadata": {},
   "outputs": [
    {
     "name": "stdout",
     "output_type": "stream",
     "text": [
      "CL Graph Statistics: \n",
      "number of nodes: 620 \n",
      "number of edges: 2088.8 \n",
      "number of triangles: 1037.6 \n",
      "number of isolated nodes: 61.0 \n",
      "number of connected components: 62.4\n"
     ]
    },
    {
     "data": {
      "image/png": "[encoded data removed]",
      "text/plain": [
       "<Figure size 432x288 with 1 Axes>"
      ]
     },
     "metadata": {
      "needs_background": "light"
     },
     "output_type": "display_data"
    }
   ],
   "source": [
    "degrees = [val for (node, val) in G.degree()]\n",
    "CLGraph = nx.expected_degree_graph(degrees, selfloops=False)\n",
    "\n",
    "CLedges = []\n",
    "CLtriangles = []\n",
    "CLisolatednode = []\n",
    "CLconnects = []\n",
    "for i in range(1,11):\n",
    "        CLG_sample = nx.expected_degree_graph(degrees, selfloops=False)\n",
    "        CLedges.append(CLG_sample.number_of_edges())\n",
    "        CLtriangles.append(sum(nx.triangles(CLG_sample).values())/3)\n",
    "        sampledegrees = [val for (node, val) in CLG_sample.degree()]\n",
    "        CLisolatednode.append(sampledegrees.count(0))\n",
    "        CLconnects.append(len(list(nx.connected_components(CLG_sample))))\n",
    "print(\"CL Graph Statistics:\",\n",
    "      \"\\nnumber of nodes:\", CLGraph.number_of_nodes(),\n",
    "      \"\\nnumber of edges:\", np.mean(CLedges), \n",
    "      \"\\nnumber of triangles:\", np.mean(CLtriangles), \n",
    "      \"\\nnumber of isolated nodes:\", np.mean(CLisolatednode), \n",
    "      \"\\nnumber of connected components:\", np.mean(CLconnects))\n",
    "degrees = [val for (node, val) in CLGraph.degree()]\n",
    "plt.hist(degrees, bins=15)\n",
    "plt.xlabel(\"Degree\")\n",
    "plt.ylabel(\"Frequency\")\n",
    "plt.title(\"Degree Distribution from One Chung_lu Graph G(620,0.011)\")\n",
    "plt.show()"
   ]
  },
  {
   "cell_type": "markdown",
   "metadata": {},
   "source": [
    "the degree distribution from one Chung_lu graph skews to the right, which performs more similar to the degree distribution of real social network dataset \"fb-pages-food.edges\".\n",
    "The Chung_lu graph also generates more triangles compared to the previous generated graph.\n",
    "It is closer to the real social network."
   ]
  },
  {
   "cell_type": "code",
   "execution_count": null,
   "metadata": {},
   "outputs": [],
   "source": []
  }
 ],
 "metadata": {
  "kernelspec": {
   "display_name": "Python 3",
   "language": "python",
   "name": "python3"
  },
  "language_info": {
   "codemirror_mode": {
    "name": "ipython",
    "version": 3
   },
   "file_extension": ".py",
   "mimetype": "text/x-python",
   "name": "python",
   "nbconvert_exporter": "python",
   "pygments_lexer": "ipython3",
   "version": "3.7.6"
  }
 },
 "nbformat": 4,
 "nbformat_minor": 4
}
